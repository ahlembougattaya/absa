{
 "cells": [
  {
   "cell_type": "markdown",
   "metadata": {},
   "source": [
    "# Deep Learning for Aspect-Based Sentiment Analysis  \n",
    "\n",
    "Using performance achieved through an implementation as described in the paper [Deep Learning for Aspect-Based Sentiment Analysis](https://cs224d.stanford.edu/reports/WangBo.pdf), this notebooks explores an alternative approach where we will use RNN's to extract context from a sentence rather than the average of the word embeddings. "
   ]
  },
  {
   "cell_type": "markdown",
   "metadata": {},
   "source": [
    "## References   \n",
    "**SemEval-2015** http://alt.qcri.org/semeval2015/task12/"
   ]
  },
  {
   "cell_type": "code",
   "execution_count": 1,
   "metadata": {},
   "outputs": [],
   "source": [
    "import os\n",
    "import sys\n",
    "import json \n",
    "import datetime\n",
    "import random \n",
    "import pickle \n",
    "import collections \n",
    "import itertools\n",
    "import copy\n",
    "import operator\n",
    "import re\n",
    "import time \n",
    "import xml.etree.ElementTree\n",
    "from string import punctuation\n",
    "import numpy as np\n",
    "import pandas as pd\n",
    "\n",
    "# LDA, tSNE\n",
    "from sklearn.feature_extraction.text import CountVectorizer\n",
    "from sklearn.manifold import TSNE\n",
    "from gensim.models.ldamodel import LdaModel\n",
    "from sklearn.metrics import f1_score, accuracy_score, recall_score, precision_score, precision_recall_fscore_support\n",
    "\n",
    "# NLTK\n",
    "import nltk\n",
    "from nltk import word_tokenize, sent_tokenize\n",
    "from nltk.tokenize import RegexpTokenizer\n",
    "from nltk.stem.snowball import SnowballStemmer\n",
    "from nltk.corpus import stopwords\n",
    "from nltk.tokenize.treebank import TreebankWordTokenizer, TreebankWordDetokenizer\n",
    "\n",
    "# TensorFlow / Keras \n",
    "import h5py\n",
    "from tensorflow.keras.preprocessing import sequence\n",
    "from tensorflow.keras import Input, layers, activations, models\n",
    "from tensorflow.keras import callbacks\n",
    "\n",
    "import tensorflow.keras.backend as K\n",
    "\n",
    "# Plotting \n",
    "%matplotlib inline\n",
    "import matplotlib.pyplot as plt\n",
    "import seaborn as sns\n",
    "sns.set(color_codes=True)\n",
    "\n",
    "# NLP (new tool)\n",
    "#from textblob import TextBlob # tutorial http://textblob.readthedocs.io/en/dev/quickstart.html"
   ]
  },
  {
   "cell_type": "code",
   "execution_count": 2,
   "metadata": {},
   "outputs": [],
   "source": [
    "sns.set(style=\"whitegrid\")\n",
    "_ = np.seterr(divide='ignore', invalid='ignore')"
   ]
  },
  {
   "cell_type": "markdown",
   "metadata": {},
   "source": [
    "## Load Data"
   ]
  },
  {
   "cell_type": "code",
   "execution_count": 3,
   "metadata": {},
   "outputs": [],
   "source": [
    "def load_file(filename):\n",
    "    elem_root = xml.etree.ElementTree.parse(filename).getroot()\n",
    "    \n",
    "    reviews = []\n",
    "\n",
    "    for review_elem in elem_root:\n",
    "        for sentence_elem in review_elem.find('sentences'):\n",
    "            sentence = sentence_elem.find('text').text\n",
    "\n",
    "            opinions = [] \n",
    "\n",
    "            opinions_elem = sentence_elem.find('Opinions')\n",
    "            if opinions_elem is not None:\n",
    "                for opinion_elem in sentence_elem.find('Opinions'):\n",
    "                    category = opinion_elem.attrib['category']\n",
    "                    polarity = opinion_elem.attrib['polarity']\n",
    "                    target = opinion_elem.attrib['target']\n",
    "                    target_from = int(opinion_elem.attrib['from']) \n",
    "                    target_to = int(opinion_elem.attrib['to']) \n",
    "\n",
    "                    entity = category.split('#')[0].lower() \n",
    "                    attribute = category.split('#')[1].lower()\n",
    "                    opinions.append({\n",
    "                        'category': category.lower(), \n",
    "                        'sentiment': polarity, \n",
    "                        'target': target.lower(), \n",
    "                        'from': target_from, \n",
    "                        'to': target_to\n",
    "                    })\n",
    "\n",
    "            reviews.append({\n",
    "                'sentence': sentence, \n",
    "                'opinions': opinions\n",
    "            })\n",
    "\n",
    "    print(\"Finished parsing XML document with {} reviews\".format(len(reviews)))\n",
    "    return reviews "
   ]
  },
  {
   "cell_type": "code",
   "execution_count": 11,
   "metadata": {},
   "outputs": [
    {
     "name": "stdout",
     "output_type": "stream",
     "text": [
      "Finished parsing XML document with 266 reviews\n"
     ]
    }
   ],
   "source": [
    "all_reviews = load_file('data/ABSA15_Hotels_Test.xml')"
   ]
  },
  {
   "cell_type": "markdown",
   "metadata": {},
   "source": [
    "**NB: I had only trained this model on the restaurants data (ABSA-15_Restaurants_Train_Final.xml and ABSA-15_Restaurants_Train_Test.xml for validation). I hadn't realised how *SMALL* this dataset is; you may want to train it with the restaurants data then retrain the same model with this dataset - same approach applies** "
   ]
  },
  {
   "cell_type": "code",
   "execution_count": 12,
   "metadata": {},
   "outputs": [
    {
     "name": "stdout",
     "output_type": "stream",
     "text": [
      "number of reviews for training 239, number of reviews for testing 27\n"
     ]
    }
   ],
   "source": [
    "np.random.shuffle(all_reviews)\n",
    "\n",
    "split = int(len(all_reviews) * .9)\n",
    "\n",
    "train_reviews = all_reviews[:split]\n",
    "test_reviews = all_reviews[split:]\n",
    "\n",
    "print(\"number of reviews for training {}, number of reviews for testing {}\".format(len(train_reviews), len(test_reviews)))"
   ]
  },
  {
   "cell_type": "code",
   "execution_count": 13,
   "metadata": {},
   "outputs": [
    {
     "data": {
      "text/plain": [
       "[{'sentence': 'DO NOT STAY HERE',\n",
       "  'opinions': [{'category': 'hotel#general',\n",
       "    'sentiment': 'negative',\n",
       "    'target': 'null',\n",
       "    'from': 0,\n",
       "    'to': 0}]},\n",
       " {'sentence': 'She tried to refuse my gold crown club points as payment for my stay.',\n",
       "  'opinions': [{'category': 'service#general',\n",
       "    'sentiment': 'negative',\n",
       "    'target': 'null',\n",
       "    'from': 0,\n",
       "    'to': 0}]}]"
      ]
     },
     "execution_count": 13,
     "metadata": {},
     "output_type": "execute_result"
    }
   ],
   "source": [
    "train_reviews[:2]"
   ]
  },
  {
   "cell_type": "markdown",
   "metadata": {},
   "source": [
    "## Sentence preprocessing"
   ]
  },
  {
   "cell_type": "code",
   "execution_count": 14,
   "metadata": {},
   "outputs": [],
   "source": [
    "test_sentence = train_reviews[0]['sentence']"
   ]
  },
  {
   "cell_type": "code",
   "execution_count": 15,
   "metadata": {},
   "outputs": [
    {
     "name": "stdout",
     "output_type": "stream",
     "text": [
      "do not stay here\n"
     ]
    }
   ],
   "source": [
    "def clean_sentence(sentence):\n",
    "    # lower case \n",
    "    sentence = sentence.lower()            \n",
    "    \n",
    "    return sentence\n",
    "\n",
    "print(clean_sentence(test_sentence))"
   ]
  },
  {
   "cell_type": "code",
   "execution_count": 16,
   "metadata": {},
   "outputs": [
    {
     "name": "stdout",
     "output_type": "stream",
     "text": [
      "['do', 'not', 'stay', 'here']\n"
     ]
    }
   ],
   "source": [
    "tb_word_tokenizer = TreebankWordTokenizer()\n",
    "\n",
    "def tokenise_sentence(sentence):\n",
    "    return tb_word_tokenizer.tokenize( clean_sentence(sentence))\n",
    "\n",
    "print(tokenise_sentence(test_sentence)) "
   ]
  },
  {
   "cell_type": "code",
   "execution_count": 18,
   "metadata": {},
   "outputs": [
    {
     "name": "stdout",
     "output_type": "stream",
     "text": [
      "POS Tags from test sentence\n",
      "['VB', 'RB', 'VB', 'RB']\n"
     ]
    }
   ],
   "source": [
    "\"\"\"\n",
    "To get a list of all possible POS \n",
    "nltk.help.upenn_tagset()\n",
    "\"\"\"\n",
    "from tensorflow.keras.utils import to_categorical\n",
    "\n",
    "POS = [\n",
    "    'CC', 'CD', 'DT', 'EX', 'FW', 'IN', 'JJ', 'JJR', 'JJS', 'LS', 'MD', 'NN', \n",
    "    'NNP', 'NNPS' 'NNS', 'PDT', 'POS', 'PRP', 'PRP$', 'RB', 'RBR', 'RBS', 'RP', \n",
    "    'SYM', 'TO', 'UH', 'VB', 'VBD', 'VBG', 'VBN', 'VBP', 'VBZ', 'WDT', 'WP', 'WP$', 'WRB', \n",
    "    'UNK', # UNKNOWN\n",
    "    'NA' # NONE (for padding)\n",
    "]\n",
    "\n",
    "POS_index = {pos : i for i, pos in enumerate(POS)}\n",
    "\n",
    "index_POS = {i : pos for i, pos in enumerate(POS)}\n",
    "\n",
    "pos_one_hot_encoding = to_categorical([POS_index[pos] for pos in POS])\n",
    "\n",
    "def get_pos_from_sentence(sentence_tokens):    \n",
    "    if type(sentence_tokens) is not list:\n",
    "        raise Exception('The get_pos_from_sentence function requires a list of tokens')            \n",
    "        \n",
    "    sentence_pos = nltk.pos_tag(sentence_tokens)\n",
    "    return [pos[1] if pos[1] in POS else 'UNK' for pos in sentence_pos]\n",
    "\n",
    "def get_pos_encoding_from_sentence(sentence_tokens):\n",
    "    return np.array(\n",
    "        [pos_one_hot_encoding[POS_index[pos]] for pos in get_pos_from_sentence(sentence_tokens)], dtype=np.int\n",
    "    )\n",
    "\n",
    "print(\"POS Tags from test sentence\")\n",
    "print(get_pos_from_sentence(tokenise_sentence(test_sentence)))"
   ]
  },
  {
   "cell_type": "markdown",
   "metadata": {},
   "source": [
    "### Build up vocabulary"
   ]
  },
  {
   "cell_type": "code",
   "execution_count": 20,
   "metadata": {},
   "outputs": [],
   "source": [
    "TAGS = {'<PAD>': 0, '<UNK>': 1, }"
   ]
  },
  {
   "cell_type": "code",
   "execution_count": 21,
   "metadata": {},
   "outputs": [
    {
     "name": "stdout",
     "output_type": "stream",
     "text": [
      "Sentences count 266\n"
     ]
    }
   ],
   "source": [
    "all_sentences = [review['sentence'] for review in train_reviews] + [review['sentence'] for review in test_reviews]\n",
    "print(\"Sentences count {}\".format(len(all_sentences)))"
   ]
  },
  {
   "cell_type": "code",
   "execution_count": 22,
   "metadata": {},
   "outputs": [
    {
     "name": "stdout",
     "output_type": "stream",
     "text": [
      "Corpus has 890 unique words\n"
     ]
    }
   ],
   "source": [
    "word_counts = {}\n",
    "for sentence in all_sentences:\n",
    "    tokens = tokenise_sentence(sentence)\n",
    "    for token in tokens:\n",
    "        if token not in word_counts:\n",
    "            word_counts[token] = 0 \n",
    "        word_counts[token] += 1 \n",
    "\n",
    "print(\"Corpus has {} unique words\".format(len(word_counts)))"
   ]
  },
  {
   "cell_type": "code",
   "execution_count": 23,
   "metadata": {},
   "outputs": [
    {
     "data": {
      "text/plain": [
       "<matplotlib.axes._subplots.AxesSubplot at 0x1a2c884d68>"
      ]
     },
     "execution_count": 23,
     "metadata": {},
     "output_type": "execute_result"
    },
    {
     "data": {
      "image/png": "[encoded data removed]",
      "text/plain": [
       "<Figure size 432x288 with 1 Axes>"
      ]
     },
     "metadata": {},
     "output_type": "display_data"
    }
   ],
   "source": [
    "sns.distplot([count for word, count in word_counts.items()])"
   ]
  },
  {
   "cell_type": "code",
   "execution_count": 28,
   "metadata": {},
   "outputs": [
    {
     "name": "stdout",
     "output_type": "stream",
     "text": [
      "Vocab size 892\n"
     ]
    }
   ],
   "source": [
    "# lets limit it to words that occured at least twice (adding on the number of tags we'll use)\n",
    "#vocab_size = sum(1 for word, count in word_counts.items() if count > 3) + len(TAGS)\n",
    "\n",
    "## NB Because we're using embeddings; we'll include every word (expect this to drag down performance)\n",
    "vocab_size = len(word_counts) + len(TAGS)\n",
    "\n",
    "print(\"Vocab size {}\".format(vocab_size))"
   ]
  },
  {
   "cell_type": "code",
   "execution_count": 29,
   "metadata": {},
   "outputs": [],
   "source": [
    "vocab = sorted(word_counts.items(), key=lambda kv: kv[1], reverse=True)[:vocab_size]"
   ]
  },
  {
   "cell_type": "code",
   "execution_count": 30,
   "metadata": {},
   "outputs": [
    {
     "name": "stdout",
     "output_type": "stream",
     "text": [
      "vocab size 890, most frequent word '.' (206), least freqent word = 'choice' (1)\n"
     ]
    }
   ],
   "source": [
    "# print some stats\n",
    "print(\"vocab size {}, most frequent word '{}' ({}), least freqent word = '{}' ({})\".format(\n",
    "    len(vocab), vocab[0][0], vocab[0][1], vocab[-1][0], vocab[-1][1]))"
   ]
  },
  {
   "cell_type": "code",
   "execution_count": 31,
   "metadata": {},
   "outputs": [],
   "source": [
    "# create index_2_word and word_2_index lookups \n",
    "word_index = copy.copy(TAGS)\n",
    "\n",
    "for v_i, v in enumerate(vocab, len(TAGS)):\n",
    "    word_index[v[0]] = v_i\n",
    "\n",
    "index_word = {v_i: v for v, v_i in word_index.items()}"
   ]
  },
  {
   "cell_type": "code",
   "execution_count": 32,
   "metadata": {},
   "outputs": [
    {
     "name": "stdout",
     "output_type": "stream",
     "text": [
      "First 20 words in our index\n",
      "0 = <PAD>\n",
      "1 = <UNK>\n",
      "2 = .\n",
      "3 = the\n",
      "4 = was\n",
      "5 = and\n",
      "6 = ,\n",
      "7 = to\n",
      "8 = i\n",
      "9 = a\n",
      "10 = hotel\n",
      "11 = in\n",
      "12 = for\n",
      "13 = it\n",
      "14 = this\n",
      "15 = very\n",
      "16 = of\n",
      "17 = is\n",
      "18 = !\n",
      "19 = great\n"
     ]
    }
   ],
   "source": [
    "print(\"First 20 words in our index\")\n",
    "for i in range(20):\n",
    "    print(\"{} = {}\".format(i, index_word[i]))"
   ]
  },
  {
   "cell_type": "markdown",
   "metadata": {},
   "source": [
    "## Create Embedding Matrix (GloVe)"
   ]
  },
  {
   "cell_type": "code",
   "execution_count": 35,
   "metadata": {},
   "outputs": [],
   "source": [
    "def create_embedding_matrix(filename, word_index=None, max_words=-1):\n",
    "    \"\"\"\n",
    "    @param word_index: setting word_index is None will create an index \n",
    "    @param max_words: setting word_index > 0 will limit the number of words created \n",
    "    \"\"\"\n",
    "\n",
    "    print(\"Creating embedding matrix form {}\".format(filename))    \n",
    "    # create embedding matrix \n",
    "    creating_word_index = word_index is None         \n",
    "    \n",
    "    if creating_word_index:\n",
    "        word_index = copy.copy(TAGS)        \n",
    "        \n",
    "    embedding_size = -1\n",
    "    \n",
    "    embeddings_index = {}\n",
    "    with open(filename, encoding='utf-8') as f:\n",
    "        for line_index, line in enumerate(f):\n",
    "            values = line.split() \n",
    "            word = values[0].lower() \n",
    "            coefs = np.asarray(values[1:], dtype='float32')\n",
    "            embeddings_index[word] = coefs    \n",
    "            \n",
    "            if embedding_size == -1:\n",
    "                embedding_size = len(coefs)\n",
    "            \n",
    "            if creating_word_index:\n",
    "                word_index[word] = len(word_index.keys())                 \n",
    "                \n",
    "            if max_words > 0 and line_index >= max_words:\n",
    "                break \n",
    "    \n",
    "    vocab_size = len(word_index.keys()) + 1\n",
    "    \n",
    "    print(\"Vocab size {}, Embedding size {}\".format(vocab_size, embedding_size))\n",
    "    \n",
    "    # TODO: limit to a pre-defined vocabulary? \n",
    "    embedding_matrix = np.zeros((vocab_size, embedding_size), dtype=np.float)\n",
    "    \n",
    "    for word, idx in word_index.items():\n",
    "        embedding_vector = embeddings_index.get(word)\n",
    "            \n",
    "        if embedding_vector is not None:\n",
    "            # words not found in embedding index will be all-zeros.\n",
    "            embedding_matrix[idx] = embedding_vector\n",
    "        else:\n",
    "            embedding_vector = np.zeros((embedding_size), dtype=np.float)\n",
    "            #embedding_vector[idx] = 0.5 # create some arbitary vector \n",
    "            embedding_matrix[idx] = embedding_vector\n",
    "    \n",
    "    print(\"Finished creating embedding matrix with shape {}\".format(embedding_matrix.shape))\n",
    "    \n",
    "    return word_index, embedding_matrix"
   ]
  },
  {
   "cell_type": "code",
   "execution_count": 37,
   "metadata": {},
   "outputs": [
    {
     "name": "stdout",
     "output_type": "stream",
     "text": [
      "Creating embedding matrix form /Users/Joshua.Newnham/Dropbox/Shared/glove.42B.300d.txt\n",
      "Vocab size 1917497, Embedding size 300\n",
      "Finished creating embedding matrix with shape (1917497, 300)\n"
     ]
    }
   ],
   "source": [
    "# We'll pass in null to create a vocab to include \n",
    "word_index, embedding_matrix = create_embedding_matrix(\n",
    "    '/Users/Joshua.Newnham/Dropbox/Shared/glove.42B.300d.txt', None, -1)"
   ]
  },
  {
   "cell_type": "markdown",
   "metadata": {},
   "source": [
    "### Save word_index and embedding matrix"
   ]
  },
  {
   "cell_type": "code",
   "execution_count": 39,
   "metadata": {},
   "outputs": [],
   "source": [
    "with open('exports/word_index.json', 'w') as f:\n",
    "    word_index_json = json.dumps(word_index)\n",
    "    f.write(word_index_json)"
   ]
  },
  {
   "cell_type": "code",
   "execution_count": 40,
   "metadata": {},
   "outputs": [],
   "source": [
    "with open('exports/embedding_matrix.np', 'wb') as f:\n",
    "    np.save(f, embedding_matrix)"
   ]
  },
  {
   "cell_type": "markdown",
   "metadata": {},
   "source": [
    "Let's now create functions to convert a sentence to vectors which we can feed into our model... Following the paper we will create a single vector for each setnence by the embedding size where the vector will be represented as the average of all the words within the sentence."
   ]
  },
  {
   "cell_type": "code",
   "execution_count": 41,
   "metadata": {},
   "outputs": [],
   "source": [
    "MAX_SEQ_LEN = 20"
   ]
  },
  {
   "cell_type": "code",
   "execution_count": 42,
   "metadata": {},
   "outputs": [],
   "source": [
    "def pad_sequences(seq, maxlen=MAX_SEQ_LEN):\n",
    "    if len(seq) == maxlen:\n",
    "        return seq \n",
    "    \n",
    "    if len(seq) > maxlen:\n",
    "        return seq[:maxlen]\n",
    "    \n",
    "    # length is shorter - need to pad out \n",
    "    diff = maxlen - len(seq)\n",
    "    \n",
    "    return ([0] * diff) + seq  "
   ]
  },
  {
   "cell_type": "code",
   "execution_count": 43,
   "metadata": {},
   "outputs": [],
   "source": [
    "from tensorflow.keras.preprocessing.text import text_to_word_sequence\n",
    "\n",
    "def encode_sentence(sentence, word_index, embedding_matrix, maxlen=MAX_SEQ_LEN):        \n",
    "    #print('encoding sentence :: {}'.format(sentence))        \n",
    "    \n",
    "    # tokensise     \n",
    "    tokens = tokenise_sentence(sentence)\n",
    "    \n",
    "    # vectorise \n",
    "    vec = [int(word_index[token]) if token in word_index else word_index['<UNK>'] for token in tokens]\n",
    "    \n",
    "    # pad \n",
    "    vec = pad_sequences(vec, maxlen)    \n",
    "    \n",
    "    # create our encoded sentence vector \n",
    "    encoded_sentence = np.zeros((maxlen, embedding_matrix.shape[1]), dtype=np.float)\n",
    "    \n",
    "    # Get each words embeddings for each word \n",
    "    # and add it to our encoded_sentence vector \n",
    "    for i, v in enumerate(vec):\n",
    "        encoded_sentence[i] = embedding_matrix[v]        \n",
    "        \n",
    "    ### post-fix (POS) \n",
    "    \n",
    "    # Now create the POS post-fix \n",
    "    pos = get_pos_encoding_from_sentence(tokens)\n",
    "    \n",
    "    # create our encoded sentence vector \n",
    "    encoded_pos = np.zeros((maxlen, pos.shape[1]), dtype=np.float)\n",
    "    for i in range(min(maxlen, pos.shape[0])):\n",
    "        encoded_pos[i] = pos[i]            \n",
    "    \n",
    "    return np.concatenate((encoded_sentence, encoded_pos), axis=1)"
   ]
  },
  {
   "cell_type": "code",
   "execution_count": 44,
   "metadata": {},
   "outputs": [],
   "source": [
    "def encode_sentences(sentences, word_index, embedding_matrix):\n",
    "    return np.array([encode_sentence(sentence, word_index, embedding_matrix) for sentence in sentences])"
   ]
  },
  {
   "cell_type": "code",
   "execution_count": 45,
   "metadata": {},
   "outputs": [
    {
     "name": "stdout",
     "output_type": "stream",
     "text": [
      "(20, 337)\n"
     ]
    }
   ],
   "source": [
    "test_sentence_encoding = encode_sentence(test_sentence, word_index, embedding_matrix)\n",
    "print(test_sentence_encoding.shape)"
   ]
  },
  {
   "cell_type": "markdown",
   "metadata": {},
   "source": [
    "--- "
   ]
  },
  {
   "cell_type": "markdown",
   "metadata": {},
   "source": [
    "## Label Encoding"
   ]
  },
  {
   "cell_type": "markdown",
   "metadata": {},
   "source": [
    "encode expressed aspect terms using the IOB2 tagging scheme [31]. According to this scheme, each word in our text receives one of 3 tags, namely I, O or B that indicate if the word is at the **Beginning**, **Inside** or **Outside** of an annotation:\n",
    "<img src='images/bio_1.png' width='500px' />\n",
    "\n",
    "This tagging scheme allows us to encode multiple non-overlapping aspect terms\n",
    "at once. Ultimately, each tag is represented as a 1-of-K vector:\n",
    "<img src='images/bio_2.png' width='400px' />\n",
    "\n",
    "We design a neural network based sequence tagger that reads in a sequence of words and predicts a sequence of corresponding IOB2 tags that encode the detected aspect terms.\n",
    "<img src='images/bio_3.png' width='400px' />\n"
   ]
  },
  {
   "cell_type": "code",
   "execution_count": 47,
   "metadata": {},
   "outputs": [],
   "source": [
    "IOB2_index = {\n",
    "    'I' : 0, \n",
    "    'O' : 1, \n",
    "    'B' : 2\n",
    "}\n",
    "\n",
    "index_IOB2 = {\n",
    "    0 : 'I', \n",
    "    1 : 'O', \n",
    "    2 : 'B'\n",
    "}\n",
    "\n",
    "IOB2_encoding = np.array([\n",
    "    [1, 0, 0], \n",
    "    [0, 1, 0], \n",
    "    [0, 0, 1]\n",
    "], dtype=np.int)"
   ]
  },
  {
   "cell_type": "code",
   "execution_count": 51,
   "metadata": {},
   "outputs": [
    {
     "data": {
      "text/plain": [
       "{'sentence': 'Interior corridors clean and well lit.',\n",
       " 'opinions': [{'category': 'hotel#cleanliness',\n",
       "   'sentiment': 'positive',\n",
       "   'target': 'interior corridors',\n",
       "   'from': 0,\n",
       "   'to': 18},\n",
       "  {'category': 'hotel#design_features',\n",
       "   'sentiment': 'positive',\n",
       "   'target': 'interior corridors',\n",
       "   'from': 0,\n",
       "   'to': 18}]}"
      ]
     },
     "execution_count": 51,
     "metadata": {},
     "output_type": "execute_result"
    }
   ],
   "source": [
    "train_reviews[2]"
   ]
  },
  {
   "cell_type": "code",
   "execution_count": 54,
   "metadata": {},
   "outputs": [
    {
     "name": "stdout",
     "output_type": "stream",
     "text": [
      "[0, 1]\n"
     ]
    }
   ],
   "source": [
    "def get_iob2_index(sentence_tokens, from_pos, to_pos):\n",
    "    tag_index = []\n",
    "    \n",
    "    if abs(from_pos - to_pos) <= 0:\n",
    "        return tag_index\n",
    "    \n",
    "    current_idx = 0 \n",
    "    for i, token in enumerate(sentence_tokens):\n",
    "        if current_idx >= from_pos and current_idx <= to_pos:\n",
    "            tag_index.append(i) \n",
    "            \n",
    "        current_idx += 1 + len(token)\n",
    "        \n",
    "    return tag_index\n",
    "\n",
    "print(get_iob2_index(tokenise_sentence(train_reviews[2]['sentence']), \n",
    "                     train_reviews[2]['opinions'][0]['from'], \n",
    "                     train_reviews[2]['opinions'][0]['to']))"
   ]
  },
  {
   "cell_type": "code",
   "execution_count": 55,
   "metadata": {},
   "outputs": [],
   "source": [
    "def label_sentence(reviews, maxlen=MAX_SEQ_LEN):\n",
    "    # create our encoded sentence vector \n",
    "    labels = np.zeros((len(reviews), maxlen, 3), dtype=np.int)\n",
    "    \n",
    "    for i, review in enumerate(reviews):            \n",
    "        tokenized_sentnece = tokenise_sentence(review['sentence'])\n",
    "        \n",
    "        # 'reset' labels\n",
    "        for j in range(maxlen):\n",
    "            labels[i,j,:] = IOB2_encoding[IOB2_index['O']]\n",
    "            \n",
    "        for opinion in review['opinions']:\n",
    "            from_pos = int(opinion['from']) \n",
    "            to_pos = int(opinion['to'])\n",
    "            if abs(from_pos - to_pos) > 0:                \n",
    "                labeled_indicies = get_iob2_index(tokenized_sentnece, from_pos, to_pos)\n",
    "                if len(labeled_indicies) > 0:                    \n",
    "                    if labeled_indicies[0] < maxlen:                        \n",
    "                        labels[i,labeled_indicies[0],:] = IOB2_encoding[IOB2_index['B']]\n",
    "                        \n",
    "                        for j in range(1, len(labeled_indicies)):\n",
    "                            if labeled_indicies[j] < maxlen:\n",
    "                                labels[i,labeled_indicies[j],:] = IOB2_encoding[IOB2_index['I']]            \n",
    "        \n",
    "    return labels"
   ]
  },
  {
   "cell_type": "code",
   "execution_count": 56,
   "metadata": {},
   "outputs": [
    {
     "name": "stdout",
     "output_type": "stream",
     "text": [
      "[{'sentence': 'I would say they are the best part of the hotel!', 'opinions': [{'category': 'service#general', 'sentiment': 'positive', 'target': 'null', 'from': 0, 'to': 0}]}]\n",
      "[[[0 1 0]\n",
      "  [0 1 0]\n",
      "  [0 1 0]\n",
      "  [0 1 0]\n",
      "  [0 1 0]\n",
      "  [0 1 0]\n",
      "  [0 1 0]\n",
      "  [0 1 0]\n",
      "  [0 1 0]\n",
      "  [0 1 0]\n",
      "  [0 1 0]\n",
      "  [0 1 0]\n",
      "  [0 1 0]\n",
      "  [0 1 0]\n",
      "  [0 1 0]\n",
      "  [0 1 0]\n",
      "  [0 1 0]\n",
      "  [0 1 0]\n",
      "  [0 1 0]\n",
      "  [0 1 0]]]\n"
     ]
    }
   ],
   "source": [
    "print(train_reviews[15:16])\n",
    "print(label_sentence(train_reviews[15:16]))"
   ]
  },
  {
   "cell_type": "markdown",
   "metadata": {},
   "source": [
    "## Label Encoding Category"
   ]
  },
  {
   "cell_type": "code",
   "execution_count": 57,
   "metadata": {},
   "outputs": [
    {
     "data": {
      "text/plain": [
       "{'sentence': 'Interior corridors clean and well lit.',\n",
       " 'opinions': [{'category': 'hotel#cleanliness',\n",
       "   'sentiment': 'positive',\n",
       "   'target': 'interior corridors',\n",
       "   'from': 0,\n",
       "   'to': 18},\n",
       "  {'category': 'hotel#design_features',\n",
       "   'sentiment': 'positive',\n",
       "   'target': 'interior corridors',\n",
       "   'from': 0,\n",
       "   'to': 18}]}"
      ]
     },
     "execution_count": 57,
     "metadata": {},
     "output_type": "execute_result"
    }
   ],
   "source": [
    "train_reviews[2]"
   ]
  },
  {
   "cell_type": "code",
   "execution_count": 58,
   "metadata": {},
   "outputs": [
    {
     "name": "stdout",
     "output_type": "stream",
     "text": [
      "Categories:\n",
      "Num catgories 28\n",
      "Min 1\n",
      "Max 53\n",
      "Avg 10.857142857142858\n"
     ]
    },
    {
     "data": {
      "image/png": "[encoded data removed]",
      "text/plain": [
       "<Figure size 432x288 with 1 Axes>"
      ]
     },
     "metadata": {},
     "output_type": "display_data"
    }
   ],
   "source": [
    "categories_count = {}\n",
    "\n",
    "for review in train_reviews:\n",
    "    for opinion in review['opinions']:\n",
    "        category = opinion['category']\n",
    "        if category not in categories_count:\n",
    "            categories_count[category] = 0 \n",
    "            \n",
    "        categories_count[category] += 1\n",
    "        \n",
    "sns.distplot(list(categories_count.values()))\n",
    "\n",
    "print(\"Categories:\\nNum catgories {}\\nMin {}\\nMax {}\\nAvg {}\".format(\n",
    "    len(categories_count), \n",
    "    min(list(categories_count.values())), \n",
    "    max(list(categories_count.values())), \n",
    "    sum(list(categories_count.values()))/len(categories_count))) "
   ]
  },
  {
   "cell_type": "markdown",
   "metadata": {},
   "source": [
    "**NB: You should ensure that you have sufficent enough examples** \n",
    "len([item for item in list(categories_count.values()) if item > 5])"
   ]
  },
  {
   "cell_type": "code",
   "execution_count": 79,
   "metadata": {},
   "outputs": [],
   "source": [
    "threshold = 5\n",
    "category_mapping = {key : key if count > threshold else 'OTHER' for key, count in categories_count.items()}"
   ]
  },
  {
   "cell_type": "code",
   "execution_count": 80,
   "metadata": {},
   "outputs": [],
   "source": [
    "# encoding \n",
    "category_index = {cat : i for i, cat in enumerate(list(set(category_mapping.values())))}\n",
    "index_category = {i : cat for i, cat in enumerate(list(set(category_mapping.values())))}"
   ]
  },
  {
   "cell_type": "code",
   "execution_count": 81,
   "metadata": {},
   "outputs": [
    {
     "name": "stdout",
     "output_type": "stream",
     "text": [
      "[[1 0 0 0 0 0 0 0 0 0 0 0 0 0 0]\n",
      " [0 1 0 0 0 0 0 0 0 0 0 0 0 0 0]\n",
      " [0 0 1 0 0 0 0 0 0 0 0 0 0 0 0]\n",
      " [0 0 0 1 0 0 0 0 0 0 0 0 0 0 0]\n",
      " [0 0 0 0 1 0 0 0 0 0 0 0 0 0 0]\n",
      " [0 0 0 0 0 1 0 0 0 0 0 0 0 0 0]\n",
      " [0 0 0 0 0 0 1 0 0 0 0 0 0 0 0]\n",
      " [0 0 0 0 0 0 0 1 0 0 0 0 0 0 0]\n",
      " [0 0 0 0 0 0 0 0 1 0 0 0 0 0 0]\n",
      " [0 0 0 0 0 0 0 0 0 1 0 0 0 0 0]\n",
      " [0 0 0 0 0 0 0 0 0 0 1 0 0 0 0]\n",
      " [0 0 0 0 0 0 0 0 0 0 0 1 0 0 0]\n",
      " [0 0 0 0 0 0 0 0 0 0 0 0 1 0 0]\n",
      " [0 0 0 0 0 0 0 0 0 0 0 0 0 1 0]\n",
      " [0 0 0 0 0 0 0 0 0 0 0 0 0 0 1]]\n"
     ]
    }
   ],
   "source": [
    "category_encoding = [] \n",
    "\n",
    "for i in index_category.keys():\n",
    "    encoding = np.zeros((len(index_category)), dtype=np.int)\n",
    "    encoding[i] = 1\n",
    "    category_encoding.append(encoding)\n",
    "    \n",
    "category_encoding = np.array(category_encoding)\n",
    "print(category_encoding)"
   ]
  },
  {
   "cell_type": "code",
   "execution_count": 82,
   "metadata": {},
   "outputs": [],
   "source": [
    "def encode_aspect(review, category_mapping, category_index):\n",
    "    \"\"\"\n",
    "    one-hot-encoding for a given aspect\n",
    "    \"\"\"\n",
    "    encoded_aspect = np.zeros((len(index_category),), dtype=np.float)\n",
    "    \n",
    "    for opinion in review['opinions']:\n",
    "        category = opinion['category']\n",
    "        category = category_mapping[category]\n",
    "        \n",
    "        cat_idx = category_index[category]\n",
    "        encoded_aspect[cat_idx, ] = 1.0         \n",
    "        \n",
    "    return encoded_aspect"
   ]
  },
  {
   "cell_type": "code",
   "execution_count": 83,
   "metadata": {},
   "outputs": [],
   "source": [
    "def encode_aspects(reviews, category_mapping, category_index):\n",
    "    return np.array([encode_aspect(review, category_mapping, category_index) for review in reviews], dtype=np.float)"
   ]
  },
  {
   "cell_type": "code",
   "execution_count": 84,
   "metadata": {},
   "outputs": [
    {
     "name": "stdout",
     "output_type": "stream",
     "text": [
      "[0. 0. 0. 1. 0. 0. 0. 0. 0. 0. 0. 0. 0. 0. 0.]\n"
     ]
    }
   ],
   "source": [
    "print(encode_aspect(train_reviews[0], category_mapping, category_index))"
   ]
  },
  {
   "cell_type": "markdown",
   "metadata": {},
   "source": [
    "#### Export "
   ]
  },
  {
   "cell_type": "code",
   "execution_count": 85,
   "metadata": {},
   "outputs": [],
   "source": [
    "with open('exports/index_category.json', 'w') as f:\n",
    "    json_str = json.dumps(index_category)\n",
    "    f.write(json_str)    "
   ]
  },
  {
   "cell_type": "code",
   "execution_count": 86,
   "metadata": {},
   "outputs": [],
   "source": [
    "with open('exports/category_index.json', 'w') as f:\n",
    "    json_str = json.dumps(category_index)\n",
    "    f.write(json_str)  "
   ]
  },
  {
   "cell_type": "markdown",
   "metadata": {},
   "source": [
    "## Create training and testing sets"
   ]
  },
  {
   "cell_type": "code",
   "execution_count": 87,
   "metadata": {},
   "outputs": [],
   "source": [
    "train_x = encode_sentences(sentences=[review['sentence'] for review in train_reviews], \n",
    "                           word_index=word_index, \n",
    "                           embedding_matrix=embedding_matrix)"
   ]
  },
  {
   "cell_type": "code",
   "execution_count": 88,
   "metadata": {},
   "outputs": [],
   "source": [
    "test_x = encode_sentences(sentences=[review['sentence'] for review in test_reviews], \n",
    "                           word_index=word_index, \n",
    "                           embedding_matrix=embedding_matrix)"
   ]
  },
  {
   "cell_type": "code",
   "execution_count": 89,
   "metadata": {},
   "outputs": [],
   "source": [
    "train_y = label_sentence(train_reviews)"
   ]
  },
  {
   "cell_type": "code",
   "execution_count": 90,
   "metadata": {},
   "outputs": [],
   "source": [
    "test_y = label_sentence(test_reviews)"
   ]
  },
  {
   "cell_type": "code",
   "execution_count": 91,
   "metadata": {},
   "outputs": [],
   "source": [
    "train_cat_y = encode_aspects(train_reviews, category_mapping, category_index)"
   ]
  },
  {
   "cell_type": "code",
   "execution_count": 92,
   "metadata": {},
   "outputs": [],
   "source": [
    "test_cat_y = encode_aspects(test_reviews, category_mapping, category_index)"
   ]
  },
  {
   "cell_type": "code",
   "execution_count": 93,
   "metadata": {},
   "outputs": [
    {
     "name": "stdout",
     "output_type": "stream",
     "text": [
      "Training :: X shape (239, 20, 337) Y shape (239, 20, 3) (239, 15)\n",
      "Testing :: X shape (27, 20, 337) Y shape (27, 20, 3) (27, 15)\n"
     ]
    }
   ],
   "source": [
    "print(\"Training :: X shape {} Y shape {} {}\".format(train_x.shape, train_y.shape, train_cat_y.shape))\n",
    "print(\"Testing :: X shape {} Y shape {} {}\".format(test_x.shape, test_y.shape, test_cat_y.shape))"
   ]
  },
  {
   "cell_type": "markdown",
   "metadata": {},
   "source": [
    "## Create model "
   ]
  },
  {
   "cell_type": "code",
   "execution_count": 94,
   "metadata": {},
   "outputs": [],
   "source": [
    "import h5py\n",
    "\n",
    "from tensorflow.keras import Input, layers, activations, models, optimizers, losses, optimizers\n",
    "from tensorflow.keras import callbacks\n",
    "\n",
    "import tensorflow.keras.backend as K"
   ]
  },
  {
   "cell_type": "code",
   "execution_count": 96,
   "metadata": {},
   "outputs": [],
   "source": [
    "def create_model(input_shape=(MAX_SEQ_LEN, 337), num_labels=3, num_categories=15, lstm_hidden_units=20):     \n",
    "        \n",
    "    x_input = layers.Input(shape=input_shape, dtype='float')        \n",
    "        \n",
    "    lstm_output = layers.Bidirectional(\n",
    "        layers.GRU(\n",
    "            lstm_hidden_units, \n",
    "            recurrent_dropout=0.2, \n",
    "            return_sequences=True), \n",
    "        merge_mode='concat')(x_input)\n",
    "    \n",
    "    lstm_output = layers.BatchNormalization()(lstm_output)\n",
    "    \n",
    "    output_a = layers.TimeDistributed(\n",
    "        layers.Dense(num_labels, activation=activations.softmax), \n",
    "        name='term_output')(lstm_output)    \n",
    "    \n",
    "    # category output \n",
    "    x_b = layers.Flatten()(lstm_output)\n",
    "    x_b = layers.Dropout(0.5)(x_b)    \n",
    "    cat_output = layers.Dense(num_categories, activation=None)(x_b) \n",
    "    cat_output = layers.Activation(activations.sigmoid, name='cat_output')(cat_output)\n",
    "    \n",
    "    model = models.Model(inputs=x_input, outputs=[output_a, cat_output])                      \n",
    "    \n",
    "    return model        "
   ]
  },
  {
   "cell_type": "code",
   "execution_count": 97,
   "metadata": {},
   "outputs": [
    {
     "name": "stdout",
     "output_type": "stream",
     "text": [
      "__________________________________________________________________________________________________\n",
      "Layer (type)                    Output Shape         Param #     Connected to                     \n",
      "==================================================================================================\n",
      "input_1 (InputLayer)            (None, 20, 337)      0                                            \n",
      "__________________________________________________________________________________________________\n",
      "bidirectional (Bidirectional)   (None, 20, 40)       42960       input_1[0][0]                    \n",
      "__________________________________________________________________________________________________\n",
      "batch_normalization (BatchNorma (None, 20, 40)       160         bidirectional[0][0]              \n",
      "__________________________________________________________________________________________________\n",
      "flatten (Flatten)               (None, 800)          0           batch_normalization[0][0]        \n",
      "__________________________________________________________________________________________________\n",
      "dropout (Dropout)               (None, 800)          0           flatten[0][0]                    \n",
      "__________________________________________________________________________________________________\n",
      "dense_1 (Dense)                 (None, 15)           12015       dropout[0][0]                    \n",
      "__________________________________________________________________________________________________\n",
      "term_output (TimeDistributed)   (None, 20, 3)        123         batch_normalization[0][0]        \n",
      "__________________________________________________________________________________________________\n",
      "cat_output (Activation)         (None, 15)           0           dense_1[0][0]                    \n",
      "==================================================================================================\n",
      "Total params: 55,258\n",
      "Trainable params: 55,178\n",
      "Non-trainable params: 80\n",
      "__________________________________________________________________________________________________\n"
     ]
    }
   ],
   "source": [
    "model = create_model() \n",
    "\n",
    "# optimizers.RMSprop()\n",
    "\n",
    "model.compile(\n",
    "    optimizer=optimizers.Adam(), \n",
    "    loss={\n",
    "        'term_output': losses.categorical_crossentropy, \n",
    "        'cat_output': losses.binary_crossentropy\n",
    "    })  \n",
    "\n",
    "model.summary()"
   ]
  },
  {
   "cell_type": "markdown",
   "metadata": {},
   "source": [
    "## Training "
   ]
  },
  {
   "cell_type": "code",
   "execution_count": 98,
   "metadata": {},
   "outputs": [],
   "source": [
    "def plot_history(history):\n",
    "    #train_acc = history.history['acc']\n",
    "    #val_acc = history.history['val_acc']\n",
    "    train_loss = history.history['loss']\n",
    "    val_loss = history.history['val_loss']\n",
    "    \n",
    "    data = {\n",
    "        'loss': [], \n",
    "        'epoch': [], \n",
    "        'source' : []\n",
    "    }\n",
    "    \n",
    "    for epoch, loss in enumerate(train_loss):\n",
    "        data['epoch'].append(epoch)\n",
    "        data['loss'].append(loss)\n",
    "        data['source'].append('train')\n",
    "    \n",
    "    for epoch, loss in enumerate(val_loss):\n",
    "        data['epoch'].append(epoch)\n",
    "        data['loss'].append(loss)\n",
    "        data['source'].append('valid')\n",
    "\n",
    "    # Plot the responses for training and validation \n",
    "    sns.lineplot(x=\"epoch\", \n",
    "                 y=\"loss\",\n",
    "                 hue=\"source\", \n",
    "                 data=data)"
   ]
  },
  {
   "cell_type": "code",
   "execution_count": 101,
   "metadata": {},
   "outputs": [],
   "source": [
    "checkpoint = callbacks.ModelCheckpoint(\n",
    "    'exports/aspect_term_model.h5', \n",
    "    monitor='val_term_output_loss',\n",
    "    verbose=0, \n",
    "    save_best_only=True, \n",
    "    save_weights_only=True, \n",
    "    mode='auto', \n",
    "    period=2)\n",
    "    \n",
    "early_stopping = callbacks.EarlyStopping(\n",
    "    monitor='val_loss', \n",
    "    patience=15)\n",
    "    \n",
    "history = model.fit(\n",
    "    train_x, [train_y, train_cat_y], \n",
    "    validation_data=(test_x, [test_y, test_cat_y]), \n",
    "    epochs=1000, \n",
    "    batch_size=32, \n",
    "    callbacks=[checkpoint, early_stopping], \n",
    "    verbose=0)"
   ]
  },
  {
   "cell_type": "code",
   "execution_count": 102,
   "metadata": {},
   "outputs": [
    {
     "data": {
      "image/png": "[encoded data removed]",
      "text/plain": [
       "<Figure size 432x288 with 1 Axes>"
      ]
     },
     "metadata": {},
     "output_type": "display_data"
    }
   ],
   "source": [
    "plot_history(history)"
   ]
  },
  {
   "cell_type": "markdown",
   "metadata": {},
   "source": [
    "## Testing "
   ]
  },
  {
   "cell_type": "code",
   "execution_count": 103,
   "metadata": {},
   "outputs": [],
   "source": [
    "def predict(reviews, index, embedding_matrix, word_index, model, \n",
    "            threshold=0.4, is_logging=True, aspect_cm=None):\n",
    "    \"\"\"\n",
    "    params: \n",
    "    \"\"\"\n",
    "    \n",
    "    def get_tagged_words(review):\n",
    "        tokens = tokenise_sentence(review['sentence'])\n",
    "        words = [] \n",
    "        for opinion in review['opinions']:\n",
    "            opinion_words = []\n",
    "            indicies = get_iob2_index(tokens, \n",
    "                                      opinion['from'], opinion['to'])\n",
    "            \n",
    "            for index in indicies:\n",
    "                opinion_words.append(tokens[index])\n",
    "                \n",
    "            if len(opinion_words) > 0:\n",
    "                words.append(opinion_words)\n",
    "                \n",
    "        return words \n",
    "    \n",
    "    def get_aspects(review):\n",
    "        review_aspects = []\n",
    "        \n",
    "        for opinion in review['opinions']:\n",
    "            review_aspects.append(opinion['category'])\n",
    "        \n",
    "        return review_aspects\n",
    "    \n",
    "    sentence = reviews[index]['sentence']\n",
    "    tagged_words = get_tagged_words(reviews[index])    \n",
    "    \n",
    "    x = encode_sentence(sentence, \n",
    "                        embedding_matrix=embedding_matrix, \n",
    "                        word_index=word_index)\n",
    "    \n",
    "    predictions = model.predict(np.expand_dims(x, axis=0))\n",
    "    prediction = predictions[0][0]\n",
    "    prediction_indicies = [np.argmax(prediction[i]) for i in range(len(prediction))]\n",
    "    \n",
    "    if is_logging:\n",
    "        print(sentence)\n",
    "        print(\"Expected values\")\n",
    "        print(\"\\tTagged words: {}\".format(tagged_words))\n",
    "        print(\"\\tAspects: {}\".format(get_aspects(reviews[index])))\n",
    "    \n",
    "    tokens = tokenise_sentence(sentence)\n",
    "    predicted_terms = [] \n",
    "    current_prediction_terms = []\n",
    "    for i in range(len(prediction_indicies)):\n",
    "        if i >= len(tokens):\n",
    "            break \n",
    "        if prediction_indicies[i] == 1:\n",
    "            if len(current_prediction_terms) > 0:\n",
    "                predicted_terms.append(current_prediction_terms)\n",
    "                current_prediction_terms = [] \n",
    "        elif prediction_indicies[i] == 2:\n",
    "            current_prediction_terms.append(tokens[i])\n",
    "        elif prediction_indicies[i] == 0:\n",
    "            current_prediction_terms.append(tokens[i])\n",
    "            \n",
    "    if len(current_prediction_terms) > 0:\n",
    "        predicted_terms.append(current_prediction_terms)\n",
    "    \n",
    "    if is_logging: \n",
    "        print(\"Predictions\")\n",
    "        print(\"\\tTagged words: {} ({})\".format(predicted_terms, prediction_indicies))\n",
    "    \n",
    "    # extract aspects \n",
    "    aspects_probs = predictions[1][0]\n",
    "    aspects = []     \n",
    "    for i, prob in enumerate(aspects_probs):\n",
    "        if prob > threshold:\n",
    "            aspects.append(\"{} ({})\".format(index_category[i], str(prob)[:4]))\n",
    "            \n",
    "    if is_logging:\n",
    "        print(\"\\tAspects: {}\".format(aspects))\n",
    "        \n",
    "    \n",
    "    # update cm \n",
    "    if aspect_cm is not None:\n",
    "        expected_aspects = get_aspects(reviews[index])\n",
    "        predicted_asepcts = [index_category[i] for i, prob in enumerate(aspects_probs) if prob >= threshold]                            \n",
    "            \n",
    "        for aspect in index_category.values():\n",
    "            in_actual = aspect in expected_aspects\n",
    "            in_predicted = aspect in predicted_asepcts\n",
    "            \n",
    "            \"\"\"\n",
    "            True Positives (TP) - These are the correctly predicted positive values which means \n",
    "            that the value of actual class is yes and the value of predicted class is also yes. \n",
    "            E.g. if actual class value indicates that this passenger survived and predicted class \n",
    "            tells you the same thing.\n",
    "            \n",
    "            True Negatives (TN) - These are the correctly predicted negative values which means \n",
    "            that the value of actual class is no and value of predicted class is also no. \n",
    "            E.g. if actual class says this passenger did not survive and \n",
    "            predicted class tells you the same thing.\n",
    "            \n",
    "            False Positives (FP) – When actual class is no and predicted class is yes. \n",
    "            E.g. if actual class says this passenger did not survive but predicted class tells you \n",
    "            that this passenger will survive.\n",
    "            \n",
    "            False Negatives (FN) – When actual class is yes but predicted class \n",
    "            in no. E.g. if actual class value indicates that this passenger survived \n",
    "            and predicted class tells you that passenger will die.            \n",
    "            \"\"\"\n",
    "            \n",
    "            if in_actual and in_predicted:\n",
    "                aspect_cm[0,0] += 1\n",
    "            elif not in_actual and not in_predicted:\n",
    "                aspect_cm[1,1] += 1\n",
    "            elif in_actual and not in_predicted:\n",
    "                aspect_cm[0,1] += 1\n",
    "            elif not in_actual and in_predicted:\n",
    "                aspect_cm[1,0] += 1\n",
    "                \n",
    "    return aspect_cm"
   ]
  },
  {
   "cell_type": "code",
   "execution_count": 104,
   "metadata": {},
   "outputs": [],
   "source": [
    "def calc_metrics(cm):\n",
    "    \"\"\"\n",
    "    Accuracy = TP+TN/TP+FP+FN+TN\n",
    "    Precision = TP/TP+FP\n",
    "    Recall = TP/TP+FN \n",
    "    F1 Score = 2*(Recall * Precision) / (Recall + Precision)\n",
    "    \"\"\"\n",
    "    TP = cm[0,0]\n",
    "    TN = cm[1,1]\n",
    "    FP = cm[1,0]\n",
    "    FN = cm[0,1]\n",
    "    \n",
    "    accuracy = float(TP + TN)/float(TP+FP+FN+TN)\n",
    "    precision = float(TP)/float(TP+FP)\n",
    "    recall = float(TP)/float(TP+FN)\n",
    "    f1 = (2. * recall * precision)/(recall + precision)\n",
    "    \n",
    "    false_negative_rate = float(FN) / float(FN + TP)    \n",
    "    false_positive_rate = float(FP) / float(FP + TN)\n",
    "\n",
    "    return {\n",
    "        'accuracy':accuracy, \n",
    "        'precision':precision, \n",
    "        'recall':recall, \n",
    "        'f1':f1, \n",
    "        'false_negative_rate':false_negative_rate, \n",
    "        'false_positive_rate':false_positive_rate\n",
    "    }"
   ]
  },
  {
   "cell_type": "code",
   "execution_count": 105,
   "metadata": {},
   "outputs": [
    {
     "data": {
      "text/plain": [
       "{'sentence': 'The staff was very courteous upon check-in.',\n",
       " 'opinions': [{'category': 'service#general',\n",
       "   'sentiment': 'positive',\n",
       "   'target': 'staff',\n",
       "   'from': 4,\n",
       "   'to': 9}]}"
      ]
     },
     "execution_count": 105,
     "metadata": {},
     "output_type": "execute_result"
    }
   ],
   "source": [
    "train_reviews[10]"
   ]
  },
  {
   "cell_type": "code",
   "execution_count": 106,
   "metadata": {},
   "outputs": [
    {
     "name": "stdout",
     "output_type": "stream",
     "text": [
      "The staff was very courteous upon check-in.\n",
      "Expected values\n",
      "\tTagged words: [['staff']]\n",
      "\tAspects: ['service#general']\n",
      "Predictions\n",
      "\tTagged words: [['staff']] ([1, 2, 1, 1, 1, 1, 1, 1, 1, 1, 1, 1, 1, 1, 1, 1, 1, 1, 1, 1])\n",
      "\tAspects: ['service#general (0.99)']\n"
     ]
    }
   ],
   "source": [
    "predict(train_reviews, 10, embedding_matrix, word_index, model)"
   ]
  },
  {
   "cell_type": "code",
   "execution_count": 107,
   "metadata": {},
   "outputs": [
    {
     "name": "stdout",
     "output_type": "stream",
     "text": [
      "The only nice thing was the free shuttle to America West Arena.\n",
      "Expected values\n",
      "\tTagged words: [['shuttle']]\n",
      "\tAspects: ['facilities#prices', 'hotel#general']\n",
      "Predictions\n",
      "\tTagged words: [] ([1, 1, 1, 1, 1, 1, 1, 1, 1, 1, 1, 1, 1, 1, 1, 1, 1, 1, 1, 1])\n",
      "\tAspects: ['hotel#general (0.88)', 'facilities#prices (0.91)']\n"
     ]
    }
   ],
   "source": [
    "predict(train_reviews, 223, embedding_matrix, word_index, model)"
   ]
  },
  {
   "cell_type": "code",
   "execution_count": 110,
   "metadata": {},
   "outputs": [
    {
     "name": "stdout",
     "output_type": "stream",
     "text": [
      "The food from the restaurant was very good but pricey which was the standard for everything in this hotel.\n",
      "Expected values\n",
      "\tTagged words: [['food'], ['food'], ['hotel']]\n",
      "\tAspects: ['food_drinks#quality', 'food_drinks#prices', 'hotel#prices']\n",
      "Predictions\n",
      "\tTagged words: [] ([1, 1, 1, 1, 1, 1, 1, 1, 1, 1, 1, 1, 1, 1, 1, 1, 1, 1, 1, 1])\n",
      "\tAspects: ['service#general (0.48)', 'hotel#general (0.57)']\n"
     ]
    }
   ],
   "source": [
    "predict(test_reviews, 0, embedding_matrix, word_index, model)"
   ]
  },
  {
   "cell_type": "code",
   "execution_count": 114,
   "metadata": {},
   "outputs": [
    {
     "name": "stdout",
     "output_type": "stream",
     "text": [
      "One time the employee stopped to pick up dirty plates as he led me to my seat!\n",
      "Expected values\n",
      "\tTagged words: [['employee']]\n",
      "\tAspects: ['service#general']\n",
      "Predictions\n",
      "\tTagged words: [] ([1, 1, 1, 1, 1, 1, 1, 1, 1, 1, 1, 1, 1, 1, 1, 1, 1, 1, 1, 1])\n",
      "\tAspects: ['service#general (0.69)']\n"
     ]
    }
   ],
   "source": [
    "predict(test_reviews, 10, embedding_matrix, word_index, model)"
   ]
  },
  {
   "cell_type": "code",
   "execution_count": 116,
   "metadata": {},
   "outputs": [
    {
     "name": "stdout",
     "output_type": "stream",
     "text": [
      "{'accuracy': 0.9894002789400279, 'precision': 0.8701754385964913, 'recall': 0.9959839357429718, 'f1': 0.9288389513108614, 'false_negative_rate': 0.004016064257028112, 'false_positive_rate': 0.011091127098321343}\n"
     ]
    }
   ],
   "source": [
    "aspect_cm = np.zeros((2,2), dtype=np.int)\n",
    "\n",
    "for i in range(len(train_reviews)):\n",
    "    aspect_cm = predict(train_reviews, i, embedding_matrix, word_index, model, threshold=0.3, aspect_cm=aspect_cm, is_logging=False)\n",
    "    \n",
    "print(calc_metrics(aspect_cm))"
   ]
  },
  {
   "cell_type": "code",
   "execution_count": 117,
   "metadata": {},
   "outputs": [
    {
     "name": "stdout",
     "output_type": "stream",
     "text": [
      "{'accuracy': 0.9259259259259259, 'precision': 0.375, 'recall': 0.375, 'f1': 0.375, 'false_negative_rate': 0.625, 'false_positive_rate': 0.03937007874015748}\n"
     ]
    }
   ],
   "source": [
    "aspect_cm = np.zeros((2,2), dtype=np.int)\n",
    "\n",
    "for i in range(len(test_reviews)):\n",
    "    aspect_cm = predict(test_reviews, i, embedding_matrix, word_index, model, threshold=0.3, aspect_cm=aspect_cm, is_logging=False)\n",
    "    \n",
    "print(calc_metrics(aspect_cm))    "
   ]
  },
  {
   "cell_type": "code",
   "execution_count": 118,
   "metadata": {},
   "outputs": [
    {
     "name": "stdout",
     "output_type": "stream",
     "text": [
      "training set: score precision 0.9566801290217657, recall 0.6399705336842377, f1 0.7405944674781323\n"
     ]
    }
   ],
   "source": [
    "prediction = model.predict(train_x)[0]\n",
    "\n",
    "expected = [np.argmax(item_b) for item in train_y for item_b in item]\n",
    "prediction = [np.argmax(item_b) for item in prediction for item_b in item]\n",
    "\n",
    "score = precision_recall_fscore_support(expected, prediction, average='macro')\n",
    "\n",
    "print(\"training set: score precision {}, recall {}, f1 {}\".format(score[0], score[1], score[2]))"
   ]
  },
  {
   "cell_type": "code",
   "execution_count": 119,
   "metadata": {},
   "outputs": [
    {
     "name": "stdout",
     "output_type": "stream",
     "text": [
      "test set: score precision 0.31719428926132837, recall 0.33138780804150453, f1 0.3241357437361243\n"
     ]
    }
   ],
   "source": [
    "prediction = model.predict(test_x)[0]\n",
    "\n",
    "expected = [np.argmax(item_b) for item in test_y for item_b in item]\n",
    "prediction = [np.argmax(item_b) for item in prediction for item_b in item]\n",
    "\n",
    "score = precision_recall_fscore_support(expected, prediction, average='macro')\n",
    "\n",
    "print(\"test set: score precision {}, recall {}, f1 {}\".format(score[0], score[1], score[2]))"
   ]
  },
  {
   "cell_type": "markdown",
   "metadata": {},
   "source": [
    "### Save model weights and model architecture "
   ]
  },
  {
   "cell_type": "code",
   "execution_count": 120,
   "metadata": {},
   "outputs": [],
   "source": [
    "model.save_weights('exports/aspect_extraction.h5')"
   ]
  },
  {
   "cell_type": "code",
   "execution_count": 123,
   "metadata": {},
   "outputs": [],
   "source": [
    "# save as JSON\n",
    "json_string = model.to_json()\n",
    "with open('exports/aspect_extraction.json', 'w') as f:\n",
    "    f.write(json_string)"
   ]
  },
  {
   "cell_type": "code",
   "execution_count": null,
   "metadata": {},
   "outputs": [],
   "source": []
  }
 ],
 "metadata": {
  "kernelspec": {
   "display_name": "Python 3",
   "language": "python",
   "name": "python3"
  },
  "language_info": {
   "codemirror_mode": {
    "name": "ipython",
    "version": 3
   },
   "file_extension": ".py",
   "mimetype": "text/x-python",
   "name": "python",
   "nbconvert_exporter": "python",
   "pygments_lexer": "ipython3",
   "version": "3.6.5"
  }
 },
 "nbformat": 4,
 "nbformat_minor": 2
}
